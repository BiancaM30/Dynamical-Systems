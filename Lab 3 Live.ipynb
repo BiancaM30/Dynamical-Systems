{
 "cells": [
  {
   "cell_type": "code",
   "execution_count": 10,
   "metadata": {},
   "outputs": [
    {
     "data": {
      "text/plain": [
       "[diff(x(t), t) == x(t) + 4*y(t), diff(y(t), t) == x(t) + y(t)]"
      ]
     },
     "execution_count": 10,
     "metadata": {},
     "output_type": "execute_result"
    }
   ],
   "source": [
    "#1a)\n",
    "t = var('t')\n",
    "x=function('x')(t)\n",
    "y=function('y')(t)\n",
    "deq1=diff(x,t)==x+4*y\n",
    "deq2=diff(y,t)==x+y\n",
    "syst=[deq1,deq2]\n",
    "syst"
   ]
  },
  {
   "cell_type": "code",
   "execution_count": 11,
   "metadata": {},
   "outputs": [
    {
     "data": {
      "text/html": [
       "<html><script type=\"math/tex; mode=display\">\\newcommand{\\Bold}[1]{\\mathbf{#1}}\\left[x\\left(t\\right) = \\frac{1}{2} \\, {\\left(2 \\, C_{2} + x\\left(0\\right)\\right)} e^{\\left(3 \\, t\\right)} - \\frac{1}{2} \\, {\\left(2 \\, C_{2} - x\\left(0\\right)\\right)} e^{\\left(-t\\right)}, y\\left(t\\right) = \\frac{1}{4} \\, {\\left(2 \\, C_{2} + x\\left(0\\right)\\right)} e^{\\left(3 \\, t\\right)} + \\frac{1}{4} \\, {\\left(2 \\, C_{2} - x\\left(0\\right)\\right)} e^{\\left(-t\\right)}\\right]</script></html>"
      ],
      "text/latex": [
       "\\begin{math}\n",
       "\\newcommand{\\Bold}[1]{\\mathbf{#1}}\\left[x\\left(t\\right) = \\frac{1}{2} \\, {\\left(2 \\, C_{2} + x\\left(0\\right)\\right)} e^{\\left(3 \\, t\\right)} - \\frac{1}{2} \\, {\\left(2 \\, C_{2} - x\\left(0\\right)\\right)} e^{\\left(-t\\right)}, y\\left(t\\right) = \\frac{1}{4} \\, {\\left(2 \\, C_{2} + x\\left(0\\right)\\right)} e^{\\left(3 \\, t\\right)} + \\frac{1}{4} \\, {\\left(2 \\, C_{2} - x\\left(0\\right)\\right)} e^{\\left(-t\\right)}\\right]\n",
       "\\end{math}"
      ],
      "text/plain": [
       "[x(t) == 1/2*(2*C2 + x(0))*e^(3*t) - 1/2*(2*C2 - x(0))*e^(-t),\n",
       " y(t) == 1/4*(2*C2 + x(0))*e^(3*t) + 1/4*(2*C2 - x(0))*e^(-t)]"
      ]
     },
     "metadata": {},
     "output_type": "display_data"
    }
   ],
   "source": [
    "sol_syst=desolve_system(syst, [x,y])\n",
    "show(sol_syst)"
   ]
  },
  {
   "cell_type": "code",
   "execution_count": 12,
   "metadata": {},
   "outputs": [
    {
     "data": {
      "text/html": [
       "<html><script type=\"math/tex; mode=display\">\\newcommand{\\Bold}[1]{\\mathbf{#1}}\\left[x\\left(t\\right) = \\frac{1}{2} \\, {\\left(C_{1} + 2 \\, C_{2}\\right)} e^{\\left(3 \\, t\\right)} + \\frac{1}{2} \\, {\\left(C_{1} - 2 \\, C_{2}\\right)} e^{\\left(-t\\right)}, y\\left(t\\right) = \\frac{1}{4} \\, {\\left(C_{1} + 2 \\, C_{2}\\right)} e^{\\left(3 \\, t\\right)} - \\frac{1}{4} \\, {\\left(C_{1} - 2 \\, C_{2}\\right)} e^{\\left(-t\\right)}\\right]</script></html>"
      ],
      "text/latex": [
       "\\begin{math}\n",
       "\\newcommand{\\Bold}[1]{\\mathbf{#1}}\\left[x\\left(t\\right) = \\frac{1}{2} \\, {\\left(C_{1} + 2 \\, C_{2}\\right)} e^{\\left(3 \\, t\\right)} + \\frac{1}{2} \\, {\\left(C_{1} - 2 \\, C_{2}\\right)} e^{\\left(-t\\right)}, y\\left(t\\right) = \\frac{1}{4} \\, {\\left(C_{1} + 2 \\, C_{2}\\right)} e^{\\left(3 \\, t\\right)} - \\frac{1}{4} \\, {\\left(C_{1} - 2 \\, C_{2}\\right)} e^{\\left(-t\\right)}\\right]\n",
       "\\end{math}"
      ],
      "text/plain": [
       "[x(t) == 1/2*(C1 + 2*C2)*e^(3*t) + 1/2*(C1 - 2*C2)*e^(-t),\n",
       " y(t) == 1/4*(C1 + 2*C2)*e^(3*t) - 1/4*(C1 - 2*C2)*e^(-t)]"
      ]
     },
     "metadata": {},
     "output_type": "display_data"
    }
   ],
   "source": [
    "C1,C2=var('C1,C2')\n",
    "sol_syst=desolve_system(syst, [x,y],[0,C1,C2])\n",
    "show(sol_syst)"
   ]
  },
  {
   "cell_type": "code",
   "execution_count": 13,
   "metadata": {},
   "outputs": [
    {
     "data": {
      "text/plain": [
       "[diff(x(t), t) == 2*x(t) - y(t), diff(y(t), t) == x(t) + 2*y(t)]"
      ]
     },
     "execution_count": 13,
     "metadata": {},
     "output_type": "execute_result"
    }
   ],
   "source": [
    "#1b)\n",
    "reset()\n",
    "t = var('t')\n",
    "x=function('x')(t)\n",
    "y=function('y')(t)\n",
    "deq1=diff(x,t)==2*x-y\n",
    "deq2=diff(y,t)==x+2*y\n",
    "syst=[deq1,deq2]\n",
    "syst"
   ]
  },
  {
   "cell_type": "code",
   "execution_count": 14,
   "metadata": {},
   "outputs": [
    {
     "data": {
      "text/html": [
       "<html><script type=\"math/tex; mode=display\">\\newcommand{\\Bold}[1]{\\mathbf{#1}}\\left[x\\left(t\\right) = -{\\left(C_{2} \\sin\\left(t\\right) - \\cos\\left(t\\right) x\\left(0\\right)\\right)} e^{\\left(2 \\, t\\right)}, y\\left(t\\right) = {\\left(C_{2} \\cos\\left(t\\right) + \\sin\\left(t\\right) x\\left(0\\right)\\right)} e^{\\left(2 \\, t\\right)}\\right]</script></html>"
      ],
      "text/latex": [
       "\\begin{math}\n",
       "\\newcommand{\\Bold}[1]{\\mathbf{#1}}\\left[x\\left(t\\right) = -{\\left(C_{2} \\sin\\left(t\\right) - \\cos\\left(t\\right) x\\left(0\\right)\\right)} e^{\\left(2 \\, t\\right)}, y\\left(t\\right) = {\\left(C_{2} \\cos\\left(t\\right) + \\sin\\left(t\\right) x\\left(0\\right)\\right)} e^{\\left(2 \\, t\\right)}\\right]\n",
       "\\end{math}"
      ],
      "text/plain": [
       "[x(t) == -(C2*sin(t) - cos(t)*x(0))*e^(2*t),\n",
       " y(t) == (C2*cos(t) + sin(t)*x(0))*e^(2*t)]"
      ]
     },
     "metadata": {},
     "output_type": "display_data"
    }
   ],
   "source": [
    "sol_syst=desolve_system(syst, [x,y])\n",
    "show(sol_syst)"
   ]
  },
  {
   "cell_type": "code",
   "execution_count": 15,
   "metadata": {},
   "outputs": [
    {
     "data": {
      "text/html": [
       "<html><script type=\"math/tex; mode=display\">\\newcommand{\\Bold}[1]{\\mathbf{#1}}\\left[x\\left(t\\right) = {\\left(C_{1} \\cos\\left(t\\right) - C_{2} \\sin\\left(t\\right)\\right)} e^{\\left(2 \\, t\\right)}, y\\left(t\\right) = {\\left(C_{2} \\cos\\left(t\\right) + C_{1} \\sin\\left(t\\right)\\right)} e^{\\left(2 \\, t\\right)}\\right]</script></html>"
      ],
      "text/latex": [
       "\\begin{math}\n",
       "\\newcommand{\\Bold}[1]{\\mathbf{#1}}\\left[x\\left(t\\right) = {\\left(C_{1} \\cos\\left(t\\right) - C_{2} \\sin\\left(t\\right)\\right)} e^{\\left(2 \\, t\\right)}, y\\left(t\\right) = {\\left(C_{2} \\cos\\left(t\\right) + C_{1} \\sin\\left(t\\right)\\right)} e^{\\left(2 \\, t\\right)}\\right]\n",
       "\\end{math}"
      ],
      "text/plain": [
       "[x(t) == (C1*cos(t) - C2*sin(t))*e^(2*t),\n",
       " y(t) == (C2*cos(t) + C1*sin(t))*e^(2*t)]"
      ]
     },
     "metadata": {},
     "output_type": "display_data"
    }
   ],
   "source": [
    "C1,C2=var('C1,C2')\n",
    "sol_syst=desolve_system(syst, [x,y],[0,C1,C2])\n",
    "show(sol_syst)"
   ]
  },
  {
   "cell_type": "code",
   "execution_count": 16,
   "metadata": {},
   "outputs": [
    {
     "data": {
      "text/plain": [
       "[diff(x(t), t) == x(t) - y(t) + z(t),\n",
       " diff(y(t), t) == x(t) + y(t) - z(t),\n",
       " diff(z(t), t) == -y(t) + 2*z(t)]"
      ]
     },
     "execution_count": 16,
     "metadata": {},
     "output_type": "execute_result"
    }
   ],
   "source": [
    "#1c)\n",
    "t = var('t')\n",
    "x=function('x')(t)\n",
    "y=function('y')(t)\n",
    "z=function('z')(t)\n",
    "deq1=diff(x,t)==x-y+z\n",
    "deq2=diff(y,t)==x+y-z\n",
    "deq3=diff(z,t)==-y+2*z\n",
    "syst=[deq1,deq2,deq3]\n",
    "syst"
   ]
  },
  {
   "cell_type": "code",
   "execution_count": 18,
   "metadata": {},
   "outputs": [
    {
     "data": {
      "text/html": [
       "<html><script type=\"math/tex; mode=display\">\\newcommand{\\Bold}[1]{\\mathbf{#1}}\\left[x\\left(t\\right) = t e^{t} x\\left(0\\right) - t e^{t} z\\left(0\\right) - {\\left(C_{2} + x\\left(0\\right) - 2 \\, z\\left(0\\right)\\right)} e^{\\left(2 \\, t\\right)} + {\\left(C_{2} + 2 \\, x\\left(0\\right) - 2 \\, z\\left(0\\right)\\right)} e^{t}, y\\left(t\\right) = t e^{t} x\\left(0\\right) - t e^{t} z\\left(0\\right) + C_{2} e^{t}, z\\left(t\\right) = t e^{t} x\\left(0\\right) - t e^{t} z\\left(0\\right) - {\\left(C_{2} + x\\left(0\\right) - 2 \\, z\\left(0\\right)\\right)} e^{\\left(2 \\, t\\right)} + {\\left(C_{2} + x\\left(0\\right) - z\\left(0\\right)\\right)} e^{t}\\right]</script></html>"
      ],
      "text/latex": [
       "\\begin{math}\n",
       "\\newcommand{\\Bold}[1]{\\mathbf{#1}}\\left[x\\left(t\\right) = t e^{t} x\\left(0\\right) - t e^{t} z\\left(0\\right) - {\\left(C_{2} + x\\left(0\\right) - 2 \\, z\\left(0\\right)\\right)} e^{\\left(2 \\, t\\right)} + {\\left(C_{2} + 2 \\, x\\left(0\\right) - 2 \\, z\\left(0\\right)\\right)} e^{t}, y\\left(t\\right) = t e^{t} x\\left(0\\right) - t e^{t} z\\left(0\\right) + C_{2} e^{t}, z\\left(t\\right) = t e^{t} x\\left(0\\right) - t e^{t} z\\left(0\\right) - {\\left(C_{2} + x\\left(0\\right) - 2 \\, z\\left(0\\right)\\right)} e^{\\left(2 \\, t\\right)} + {\\left(C_{2} + x\\left(0\\right) - z\\left(0\\right)\\right)} e^{t}\\right]\n",
       "\\end{math}"
      ],
      "text/plain": [
       "[x(t) == t*e^t*x(0) - t*e^t*z(0) - (C2 + x(0) - 2*z(0))*e^(2*t) + (C2 + 2*x(0) - 2*z(0))*e^t,\n",
       " y(t) == t*e^t*x(0) - t*e^t*z(0) + C2*e^t,\n",
       " z(t) == t*e^t*x(0) - t*e^t*z(0) - (C2 + x(0) - 2*z(0))*e^(2*t) + (C2 + x(0) - z(0))*e^t]"
      ]
     },
     "metadata": {},
     "output_type": "display_data"
    }
   ],
   "source": [
    "sol_syst=desolve_system(syst, [x,y,z])\n",
    "show(sol_syst)"
   ]
  },
  {
   "cell_type": "code",
   "execution_count": 20,
   "metadata": {},
   "outputs": [
    {
     "data": {
      "text/html": [
       "<html><script type=\"math/tex; mode=display\">\\newcommand{\\Bold}[1]{\\mathbf{#1}}\\left[x\\left(t\\right) = C_{1} t e^{t} - C_{3} t e^{t} - {\\left(C_{1} + C_{2} - 2 \\, C_{3}\\right)} e^{\\left(2 \\, t\\right)} + {\\left(2 \\, C_{1} + C_{2} - 2 \\, C_{3}\\right)} e^{t}, y\\left(t\\right) = C_{1} t e^{t} - C_{3} t e^{t} + C_{2} e^{t}, z\\left(t\\right) = C_{1} t e^{t} - C_{3} t e^{t} - {\\left(C_{1} + C_{2} - 2 \\, C_{3}\\right)} e^{\\left(2 \\, t\\right)} + {\\left(C_{1} + C_{2} - C_{3}\\right)} e^{t}\\right]</script></html>"
      ],
      "text/latex": [
       "\\begin{math}\n",
       "\\newcommand{\\Bold}[1]{\\mathbf{#1}}\\left[x\\left(t\\right) = C_{1} t e^{t} - C_{3} t e^{t} - {\\left(C_{1} + C_{2} - 2 \\, C_{3}\\right)} e^{\\left(2 \\, t\\right)} + {\\left(2 \\, C_{1} + C_{2} - 2 \\, C_{3}\\right)} e^{t}, y\\left(t\\right) = C_{1} t e^{t} - C_{3} t e^{t} + C_{2} e^{t}, z\\left(t\\right) = C_{1} t e^{t} - C_{3} t e^{t} - {\\left(C_{1} + C_{2} - 2 \\, C_{3}\\right)} e^{\\left(2 \\, t\\right)} + {\\left(C_{1} + C_{2} - C_{3}\\right)} e^{t}\\right]\n",
       "\\end{math}"
      ],
      "text/plain": [
       "[x(t) == C1*t*e^t - C3*t*e^t - (C1 + C2 - 2*C3)*e^(2*t) + (2*C1 + C2 - 2*C3)*e^t,\n",
       " y(t) == C1*t*e^t - C3*t*e^t + C2*e^t,\n",
       " z(t) == C1*t*e^t - C3*t*e^t - (C1 + C2 - 2*C3)*e^(2*t) + (C1 + C2 - C3)*e^t]"
      ]
     },
     "metadata": {},
     "output_type": "display_data"
    }
   ],
   "source": [
    "C1,C2,C3=var('C1,C2,C3')\n",
    "sol_syst=desolve_system(syst, [x,y,z],[0,C1,C2,C3])\n",
    "show(sol_syst)"
   ]
  },
  {
   "cell_type": "code",
   "execution_count": 25,
   "metadata": {},
   "outputs": [
    {
     "data": {
      "text/plain": [
       "[diff(x(t), t) == 5*x(t) + 3*y(t) + 1,\n",
       " diff(y(t), t) == e^(-t) - 6*x(t) - 4*y(t)]"
      ]
     },
     "execution_count": 25,
     "metadata": {},
     "output_type": "execute_result"
    }
   ],
   "source": [
    "#1d)\n",
    "t = var('t')\n",
    "x=function('x')(t)\n",
    "y=function('y')(t)\n",
    "deq1=diff(x,t)==5*x+3*y+1\n",
    "deq2=diff(y,t)==-6*x-4*y+exp(-t)\n",
    "syst=[deq1,deq2]\n",
    "syst"
   ]
  },
  {
   "cell_type": "code",
   "execution_count": 26,
   "metadata": {},
   "outputs": [
    {
     "data": {
      "text/html": [
       "<html><script type=\"math/tex; mode=display\">\\newcommand{\\Bold}[1]{\\mathbf{#1}}\\left[x\\left(t\\right) = \\frac{1}{3} \\, {\\left(3 \\, C_{2} + 6 \\, x\\left(0\\right) + 4\\right)} e^{\\left(2 \\, t\\right)} - \\frac{1}{3} \\, {\\left(3 \\, C_{2} + 3 \\, x\\left(0\\right) - 2\\right)} e^{\\left(-t\\right)} - t e^{\\left(-t\\right)} - 2, y\\left(t\\right) = -\\frac{1}{3} \\, {\\left(3 \\, C_{2} + 6 \\, x\\left(0\\right) + 4\\right)} e^{\\left(2 \\, t\\right)} + \\frac{1}{3} \\, {\\left(6 \\, C_{2} + 6 \\, x\\left(0\\right) - 5\\right)} e^{\\left(-t\\right)} + 2 \\, t e^{\\left(-t\\right)} + 3\\right]</script></html>"
      ],
      "text/latex": [
       "\\begin{math}\n",
       "\\newcommand{\\Bold}[1]{\\mathbf{#1}}\\left[x\\left(t\\right) = \\frac{1}{3} \\, {\\left(3 \\, C_{2} + 6 \\, x\\left(0\\right) + 4\\right)} e^{\\left(2 \\, t\\right)} - \\frac{1}{3} \\, {\\left(3 \\, C_{2} + 3 \\, x\\left(0\\right) - 2\\right)} e^{\\left(-t\\right)} - t e^{\\left(-t\\right)} - 2, y\\left(t\\right) = -\\frac{1}{3} \\, {\\left(3 \\, C_{2} + 6 \\, x\\left(0\\right) + 4\\right)} e^{\\left(2 \\, t\\right)} + \\frac{1}{3} \\, {\\left(6 \\, C_{2} + 6 \\, x\\left(0\\right) - 5\\right)} e^{\\left(-t\\right)} + 2 \\, t e^{\\left(-t\\right)} + 3\\right]\n",
       "\\end{math}"
      ],
      "text/plain": [
       "[x(t) == 1/3*(3*C2 + 6*x(0) + 4)*e^(2*t) - 1/3*(3*C2 + 3*x(0) - 2)*e^(-t) - t*e^(-t) - 2,\n",
       " y(t) == -1/3*(3*C2 + 6*x(0) + 4)*e^(2*t) + 1/3*(6*C2 + 6*x(0) - 5)*e^(-t) + 2*t*e^(-t) + 3]"
      ]
     },
     "metadata": {},
     "output_type": "display_data"
    }
   ],
   "source": [
    "sol_syst=desolve_system(syst, [x,y])\n",
    "show(sol_syst)"
   ]
  },
  {
   "cell_type": "code",
   "execution_count": 27,
   "metadata": {},
   "outputs": [
    {
     "data": {
      "text/html": [
       "<html><script type=\"math/tex; mode=display\">\\newcommand{\\Bold}[1]{\\mathbf{#1}}\\left[x\\left(t\\right) = \\frac{1}{3} \\, {\\left(6 \\, C_{1} + 3 \\, C_{2} + 4\\right)} e^{\\left(2 \\, t\\right)} - \\frac{1}{3} \\, {\\left(3 \\, C_{1} + 3 \\, C_{2} - 2\\right)} e^{\\left(-t\\right)} - t e^{\\left(-t\\right)} - 2, y\\left(t\\right) = -\\frac{1}{3} \\, {\\left(6 \\, C_{1} + 3 \\, C_{2} + 4\\right)} e^{\\left(2 \\, t\\right)} + \\frac{1}{3} \\, {\\left(6 \\, C_{1} + 6 \\, C_{2} - 5\\right)} e^{\\left(-t\\right)} + 2 \\, t e^{\\left(-t\\right)} + 3\\right]</script></html>"
      ],
      "text/latex": [
       "\\begin{math}\n",
       "\\newcommand{\\Bold}[1]{\\mathbf{#1}}\\left[x\\left(t\\right) = \\frac{1}{3} \\, {\\left(6 \\, C_{1} + 3 \\, C_{2} + 4\\right)} e^{\\left(2 \\, t\\right)} - \\frac{1}{3} \\, {\\left(3 \\, C_{1} + 3 \\, C_{2} - 2\\right)} e^{\\left(-t\\right)} - t e^{\\left(-t\\right)} - 2, y\\left(t\\right) = -\\frac{1}{3} \\, {\\left(6 \\, C_{1} + 3 \\, C_{2} + 4\\right)} e^{\\left(2 \\, t\\right)} + \\frac{1}{3} \\, {\\left(6 \\, C_{1} + 6 \\, C_{2} - 5\\right)} e^{\\left(-t\\right)} + 2 \\, t e^{\\left(-t\\right)} + 3\\right]\n",
       "\\end{math}"
      ],
      "text/plain": [
       "[x(t) == 1/3*(6*C1 + 3*C2 + 4)*e^(2*t) - 1/3*(3*C1 + 3*C2 - 2)*e^(-t) - t*e^(-t) - 2,\n",
       " y(t) == -1/3*(6*C1 + 3*C2 + 4)*e^(2*t) + 1/3*(6*C1 + 6*C2 - 5)*e^(-t) + 2*t*e^(-t) + 3]"
      ]
     },
     "metadata": {},
     "output_type": "display_data"
    }
   ],
   "source": [
    "C1,C2=var('C1,C2')\n",
    "sol_syst=desolve_system(syst, [x,y],[0,C1,C2])\n",
    "show(sol_syst)"
   ]
  },
  {
   "cell_type": "code",
   "execution_count": 28,
   "metadata": {},
   "outputs": [
    {
     "data": {
      "text/plain": [
       "[diff(x(t), t) == cos(t) + x(t) + 3*y(t), diff(y(t), t) == 2*t + x(t) - y(t)]"
      ]
     },
     "execution_count": 28,
     "metadata": {},
     "output_type": "execute_result"
    }
   ],
   "source": [
    "#1e)\n",
    "t = var('t')\n",
    "x=function('x')(t)\n",
    "y=function('y')(t)\n",
    "deq1=diff(x,t)==x+3*y+cos(t)\n",
    "deq2=diff(y,t)==x-y+2*t\n",
    "syst=[deq1,deq2]\n",
    "syst"
   ]
  },
  {
   "cell_type": "code",
   "execution_count": 29,
   "metadata": {},
   "outputs": [
    {
     "data": {
      "text/html": [
       "<html><script type=\"math/tex; mode=display\">\\newcommand{\\Bold}[1]{\\mathbf{#1}}\\left[x\\left(t\\right) = \\frac{3}{40} \\, {\\left(10 \\, C_{2} + 10 \\, x\\left(0\\right) + 9\\right)} e^{\\left(2 \\, t\\right)} - \\frac{1}{40} \\, {\\left(30 \\, C_{2} - 10 \\, x\\left(0\\right) + 19\\right)} e^{\\left(-2 \\, t\\right)} - \\frac{3}{2} \\, t - \\frac{1}{5} \\, \\cos\\left(t\\right) + \\frac{1}{5} \\, \\sin\\left(t\\right), y\\left(t\\right) = \\frac{1}{40} \\, {\\left(10 \\, C_{2} + 10 \\, x\\left(0\\right) + 9\\right)} e^{\\left(2 \\, t\\right)} + \\frac{1}{40} \\, {\\left(30 \\, C_{2} - 10 \\, x\\left(0\\right) + 19\\right)} e^{\\left(-2 \\, t\\right)} + \\frac{1}{2} \\, t - \\frac{1}{5} \\, \\cos\\left(t\\right) - \\frac{1}{2}\\right]</script></html>"
      ],
      "text/latex": [
       "\\begin{math}\n",
       "\\newcommand{\\Bold}[1]{\\mathbf{#1}}\\left[x\\left(t\\right) = \\frac{3}{40} \\, {\\left(10 \\, C_{2} + 10 \\, x\\left(0\\right) + 9\\right)} e^{\\left(2 \\, t\\right)} - \\frac{1}{40} \\, {\\left(30 \\, C_{2} - 10 \\, x\\left(0\\right) + 19\\right)} e^{\\left(-2 \\, t\\right)} - \\frac{3}{2} \\, t - \\frac{1}{5} \\, \\cos\\left(t\\right) + \\frac{1}{5} \\, \\sin\\left(t\\right), y\\left(t\\right) = \\frac{1}{40} \\, {\\left(10 \\, C_{2} + 10 \\, x\\left(0\\right) + 9\\right)} e^{\\left(2 \\, t\\right)} + \\frac{1}{40} \\, {\\left(30 \\, C_{2} - 10 \\, x\\left(0\\right) + 19\\right)} e^{\\left(-2 \\, t\\right)} + \\frac{1}{2} \\, t - \\frac{1}{5} \\, \\cos\\left(t\\right) - \\frac{1}{2}\\right]\n",
       "\\end{math}"
      ],
      "text/plain": [
       "[x(t) == 3/40*(10*C2 + 10*x(0) + 9)*e^(2*t) - 1/40*(30*C2 - 10*x(0) + 19)*e^(-2*t) - 3/2*t - 1/5*cos(t) + 1/5*sin(t),\n",
       " y(t) == 1/40*(10*C2 + 10*x(0) + 9)*e^(2*t) + 1/40*(30*C2 - 10*x(0) + 19)*e^(-2*t) + 1/2*t - 1/5*cos(t) - 1/2]"
      ]
     },
     "metadata": {},
     "output_type": "display_data"
    }
   ],
   "source": [
    "sol_syst=desolve_system(syst, [x,y])\n",
    "show(sol_syst)"
   ]
  },
  {
   "cell_type": "code",
   "execution_count": 30,
   "metadata": {},
   "outputs": [
    {
     "data": {
      "text/html": [
       "<html><script type=\"math/tex; mode=display\">\\newcommand{\\Bold}[1]{\\mathbf{#1}}\\left[x\\left(t\\right) = \\frac{3}{40} \\, {\\left(10 \\, C_{1} + 10 \\, C_{2} + 9\\right)} e^{\\left(2 \\, t\\right)} + \\frac{1}{40} \\, {\\left(10 \\, C_{1} - 30 \\, C_{2} - 19\\right)} e^{\\left(-2 \\, t\\right)} - \\frac{3}{2} \\, t - \\frac{1}{5} \\, \\cos\\left(t\\right) + \\frac{1}{5} \\, \\sin\\left(t\\right), y\\left(t\\right) = \\frac{1}{40} \\, {\\left(10 \\, C_{1} + 10 \\, C_{2} + 9\\right)} e^{\\left(2 \\, t\\right)} - \\frac{1}{40} \\, {\\left(10 \\, C_{1} - 30 \\, C_{2} - 19\\right)} e^{\\left(-2 \\, t\\right)} + \\frac{1}{2} \\, t - \\frac{1}{5} \\, \\cos\\left(t\\right) - \\frac{1}{2}\\right]</script></html>"
      ],
      "text/latex": [
       "\\begin{math}\n",
       "\\newcommand{\\Bold}[1]{\\mathbf{#1}}\\left[x\\left(t\\right) = \\frac{3}{40} \\, {\\left(10 \\, C_{1} + 10 \\, C_{2} + 9\\right)} e^{\\left(2 \\, t\\right)} + \\frac{1}{40} \\, {\\left(10 \\, C_{1} - 30 \\, C_{2} - 19\\right)} e^{\\left(-2 \\, t\\right)} - \\frac{3}{2} \\, t - \\frac{1}{5} \\, \\cos\\left(t\\right) + \\frac{1}{5} \\, \\sin\\left(t\\right), y\\left(t\\right) = \\frac{1}{40} \\, {\\left(10 \\, C_{1} + 10 \\, C_{2} + 9\\right)} e^{\\left(2 \\, t\\right)} - \\frac{1}{40} \\, {\\left(10 \\, C_{1} - 30 \\, C_{2} - 19\\right)} e^{\\left(-2 \\, t\\right)} + \\frac{1}{2} \\, t - \\frac{1}{5} \\, \\cos\\left(t\\right) - \\frac{1}{2}\\right]\n",
       "\\end{math}"
      ],
      "text/plain": [
       "[x(t) == 3/40*(10*C1 + 10*C2 + 9)*e^(2*t) + 1/40*(10*C1 - 30*C2 - 19)*e^(-2*t) - 3/2*t - 1/5*cos(t) + 1/5*sin(t),\n",
       " y(t) == 1/40*(10*C1 + 10*C2 + 9)*e^(2*t) - 1/40*(10*C1 - 30*C2 - 19)*e^(-2*t) + 1/2*t - 1/5*cos(t) - 1/2]"
      ]
     },
     "metadata": {},
     "output_type": "display_data"
    }
   ],
   "source": [
    "C1,C2=var('C1,C2')\n",
    "sol_syst=desolve_system(syst, [x,y],[0,C1,C2])\n",
    "show(sol_syst)"
   ]
  },
  {
   "cell_type": "code",
   "execution_count": 33,
   "metadata": {},
   "outputs": [
    {
     "data": {
      "text/plain": [
       "[diff(x(t), t) == e^(-t) + x(t) - 2*y(t) - 2*z(t),\n",
       " diff(y(t), t) == -2*x(t) + y(t) + 2*z(t),\n",
       " diff(z(t), t) == e^(-t) + 2*x(t) - y(t) - 3*z(t)]"
      ]
     },
     "execution_count": 33,
     "metadata": {},
     "output_type": "execute_result"
    }
   ],
   "source": [
    "#1f)\n",
    "t = var('t')\n",
    "x=function('x')(t)\n",
    "y=function('y')(t)\n",
    "z=function('z')(t)\n",
    "deq1=diff(x,t)==x-2*y-2*z+exp(-t)\n",
    "deq2=diff(y,t)==-2*x+y+2*z\n",
    "deq3=diff(z,t)==2*x-y-3*z+exp(-t)\n",
    "syst=[deq1,deq2,deq3]\n",
    "syst"
   ]
  },
  {
   "cell_type": "code",
   "execution_count": 34,
   "metadata": {},
   "outputs": [
    {
     "data": {
      "text/html": [
       "<html><script type=\"math/tex; mode=display\">\\newcommand{\\Bold}[1]{\\mathbf{#1}}\\left[x\\left(t\\right) = -\\frac{1}{3} \\, \\sqrt{3} {\\left(C_{2} + 2 \\, C_{3} - 2 \\, x\\left(0\\right)\\right)} \\sinh\\left(\\sqrt{3} t\\right) - C_{2} \\cosh\\left(\\sqrt{3} t\\right) + {\\left(C_{2} + x\\left(0\\right)\\right)} e^{\\left(-t\\right)} + t e^{\\left(-t\\right)}, y\\left(t\\right) = \\frac{1}{3} \\, \\sqrt{3} {\\left(C_{2} + 2 \\, C_{3} - 2 \\, x\\left(0\\right)\\right)} \\sinh\\left(\\sqrt{3} t\\right) + C_{2} \\cosh\\left(\\sqrt{3} t\\right), z\\left(t\\right) = -\\sqrt{3} {\\left(C_{3} - x\\left(0\\right)\\right)} \\sinh\\left(\\sqrt{3} t\\right) - {\\left(C_{2} - C_{3} + x\\left(0\\right)\\right)} \\cosh\\left(\\sqrt{3} t\\right) + {\\left(C_{2} + x\\left(0\\right)\\right)} e^{\\left(-t\\right)} + t e^{\\left(-t\\right)}\\right]</script></html>"
      ],
      "text/latex": [
       "\\begin{math}\n",
       "\\newcommand{\\Bold}[1]{\\mathbf{#1}}\\left[x\\left(t\\right) = -\\frac{1}{3} \\, \\sqrt{3} {\\left(C_{2} + 2 \\, C_{3} - 2 \\, x\\left(0\\right)\\right)} \\sinh\\left(\\sqrt{3} t\\right) - C_{2} \\cosh\\left(\\sqrt{3} t\\right) + {\\left(C_{2} + x\\left(0\\right)\\right)} e^{\\left(-t\\right)} + t e^{\\left(-t\\right)}, y\\left(t\\right) = \\frac{1}{3} \\, \\sqrt{3} {\\left(C_{2} + 2 \\, C_{3} - 2 \\, x\\left(0\\right)\\right)} \\sinh\\left(\\sqrt{3} t\\right) + C_{2} \\cosh\\left(\\sqrt{3} t\\right), z\\left(t\\right) = -\\sqrt{3} {\\left(C_{3} - x\\left(0\\right)\\right)} \\sinh\\left(\\sqrt{3} t\\right) - {\\left(C_{2} - C_{3} + x\\left(0\\right)\\right)} \\cosh\\left(\\sqrt{3} t\\right) + {\\left(C_{2} + x\\left(0\\right)\\right)} e^{\\left(-t\\right)} + t e^{\\left(-t\\right)}\\right]\n",
       "\\end{math}"
      ],
      "text/plain": [
       "[x(t) == -1/3*sqrt(3)*(C2 + 2*C3 - 2*x(0))*sinh(sqrt(3)*t) - C2*cosh(sqrt(3)*t) + (C2 + x(0))*e^(-t) + t*e^(-t),\n",
       " y(t) == 1/3*sqrt(3)*(C2 + 2*C3 - 2*x(0))*sinh(sqrt(3)*t) + C2*cosh(sqrt(3)*t),\n",
       " z(t) == -sqrt(3)*(C3 - x(0))*sinh(sqrt(3)*t) - (C2 - C3 + x(0))*cosh(sqrt(3)*t) + (C2 + x(0))*e^(-t) + t*e^(-t)]"
      ]
     },
     "metadata": {},
     "output_type": "display_data"
    }
   ],
   "source": [
    "sol_syst=desolve_system(syst, [x,y,z])\n",
    "show(sol_syst)"
   ]
  },
  {
   "cell_type": "code",
   "execution_count": 37,
   "metadata": {},
   "outputs": [
    {
     "data": {
      "text/html": [
       "<html><script type=\"math/tex; mode=display\">\\newcommand{\\Bold}[1]{\\mathbf{#1}}\\left[x\\left(t\\right) = \\frac{1}{3} \\, \\sqrt{3} {\\left(2 \\, \\mathit{CC}_{1} - \\mathit{CC}_{2} - 2 \\, \\mathit{CC}_{3}\\right)} \\sinh\\left(\\sqrt{3} t\\right) - \\mathit{CC}_{2} \\cosh\\left(\\sqrt{3} t\\right) + {\\left(\\mathit{CC}_{1} + \\mathit{CC}_{2}\\right)} e^{\\left(-t\\right)} + t e^{\\left(-t\\right)}, y\\left(t\\right) = -\\frac{1}{3} \\, \\sqrt{3} {\\left(2 \\, \\mathit{CC}_{1} - \\mathit{CC}_{2} - 2 \\, \\mathit{CC}_{3}\\right)} \\sinh\\left(\\sqrt{3} t\\right) + \\mathit{CC}_{2} \\cosh\\left(\\sqrt{3} t\\right), z\\left(t\\right) = \\sqrt{3} {\\left(\\mathit{CC}_{1} - \\mathit{CC}_{3}\\right)} \\sinh\\left(\\sqrt{3} t\\right) - {\\left(\\mathit{CC}_{1} + \\mathit{CC}_{2} - \\mathit{CC}_{3}\\right)} \\cosh\\left(\\sqrt{3} t\\right) + {\\left(\\mathit{CC}_{1} + \\mathit{CC}_{2}\\right)} e^{\\left(-t\\right)} + t e^{\\left(-t\\right)}\\right]</script></html>"
      ],
      "text/latex": [
       "\\begin{math}\n",
       "\\newcommand{\\Bold}[1]{\\mathbf{#1}}\\left[x\\left(t\\right) = \\frac{1}{3} \\, \\sqrt{3} {\\left(2 \\, \\mathit{CC}_{1} - \\mathit{CC}_{2} - 2 \\, \\mathit{CC}_{3}\\right)} \\sinh\\left(\\sqrt{3} t\\right) - \\mathit{CC}_{2} \\cosh\\left(\\sqrt{3} t\\right) + {\\left(\\mathit{CC}_{1} + \\mathit{CC}_{2}\\right)} e^{\\left(-t\\right)} + t e^{\\left(-t\\right)}, y\\left(t\\right) = -\\frac{1}{3} \\, \\sqrt{3} {\\left(2 \\, \\mathit{CC}_{1} - \\mathit{CC}_{2} - 2 \\, \\mathit{CC}_{3}\\right)} \\sinh\\left(\\sqrt{3} t\\right) + \\mathit{CC}_{2} \\cosh\\left(\\sqrt{3} t\\right), z\\left(t\\right) = \\sqrt{3} {\\left(\\mathit{CC}_{1} - \\mathit{CC}_{3}\\right)} \\sinh\\left(\\sqrt{3} t\\right) - {\\left(\\mathit{CC}_{1} + \\mathit{CC}_{2} - \\mathit{CC}_{3}\\right)} \\cosh\\left(\\sqrt{3} t\\right) + {\\left(\\mathit{CC}_{1} + \\mathit{CC}_{2}\\right)} e^{\\left(-t\\right)} + t e^{\\left(-t\\right)}\\right]\n",
       "\\end{math}"
      ],
      "text/plain": [
       "[x(t) == 1/3*sqrt(3)*(2*CC1 - CC2 - 2*CC3)*sinh(sqrt(3)*t) - CC2*cosh(sqrt(3)*t) + (CC1 + CC2)*e^(-t) + t*e^(-t),\n",
       " y(t) == -1/3*sqrt(3)*(2*CC1 - CC2 - 2*CC3)*sinh(sqrt(3)*t) + CC2*cosh(sqrt(3)*t),\n",
       " z(t) == sqrt(3)*(CC1 - CC3)*sinh(sqrt(3)*t) - (CC1 + CC2 - CC3)*cosh(sqrt(3)*t) + (CC1 + CC2)*e^(-t) + t*e^(-t)]"
      ]
     },
     "metadata": {},
     "output_type": "display_data"
    }
   ],
   "source": [
    "C1,C2,C3=var('C1,C2,C3')\n",
    "sol_syst=desolve_system(syst, [x,y,z],[0,CC1,CC2,CC3])\n",
    "show(sol_syst)"
   ]
  },
  {
   "cell_type": "code",
   "execution_count": 38,
   "metadata": {},
   "outputs": [
    {
     "data": {
      "image/png": "[encoded data removed]",
      "text/plain": [
       "Graphics object consisting of 2 graphics primitives"
      ]
     },
     "metadata": {},
     "output_type": "display_data"
    }
   ],
   "source": [
    "#2a)\n",
    "t = var('t')\n",
    "x=function('x')(t)\n",
    "y=function('y')(t)\n",
    "deq1=diff(x,t)==x+4*y\n",
    "deq2=diff(y,t)==x+y\n",
    "syst=[deq1,deq2]\n",
    "\n",
    "vars=[x,y]\n",
    "in_cond=[0,1,2]\n",
    "sol=desolve_system(syst, vars, in_cond)\n",
    "\n",
    "sol_x(t)=sol[0].rhs()\n",
    "sol_y(t)=sol[1].rhs()\n",
    "\n",
    "g1=plot(sol_x(t),t,-4,4,color='red',ymin=-20, ymax=20)\n",
    "g2=plot(sol_y(t),t,-4,4,color='blue',ymin=-20, ymax=20)\n",
    "\n",
    "show(g1+g2)"
   ]
  },
  {
   "cell_type": "code",
   "execution_count": 39,
   "metadata": {},
   "outputs": [
    {
     "data": {
      "image/png": "[encoded data removed]",
      "text/plain": [
       "Graphics object consisting of 2 graphics primitives"
      ]
     },
     "metadata": {},
     "output_type": "display_data"
    }
   ],
   "source": [
    "#2b)\n",
    "t = var('t')\n",
    "x=function('x')(t)\n",
    "y=function('y')(t)\n",
    "deq1=diff(x,t)==x-y+t-1\n",
    "deq2=diff(y,t)==-2*x+4*y+cos(t)\n",
    "syst=[deq1,deq2]\n",
    "\n",
    "vars=[x,y]\n",
    "in_cond=[0,0,1]\n",
    "sol=desolve_system(syst, vars, in_cond)\n",
    "\n",
    "sol_x(t)=sol[0].rhs()\n",
    "sol_y(t)=sol[1].rhs()\n",
    "\n",
    "g1=plot(sol_x(t),t,-4,4,color='red',ymin=-20, ymax=20)\n",
    "g2=plot(sol_y(t),t,-4,4,color='blue',ymin=-20, ymax=20)\n",
    "show(g1+g2)"
   ]
  },
  {
   "cell_type": "code",
   "execution_count": 40,
   "metadata": {},
   "outputs": [
    {
     "data": {
      "image/png": "[encoded data removed]",
      "text/plain": [
       "Graphics object consisting of 2 graphics primitives"
      ]
     },
     "metadata": {},
     "output_type": "display_data"
    }
   ],
   "source": [
    "#2c)\n",
    "t = var('t')\n",
    "x=function('x')(t)\n",
    "y=function('y')(t)\n",
    "deq1=diff(x,t)==x+2*y+exp(-t)\n",
    "deq2=diff(y,t)==-2*x+y+1\n",
    "syst=[deq1,deq2]\n",
    "\n",
    "vars=[x,y]\n",
    "in_cond=[0,0,1]\n",
    "sol=desolve_system(syst, vars, in_cond)\n",
    "\n",
    "sol_x(t)=sol[0].rhs()\n",
    "sol_y(t)=sol[1].rhs()\n",
    "\n",
    "g1=plot(sol_x(t),t,-4,4,color='red',ymin=-20, ymax=20)\n",
    "g2=plot(sol_y(t),t,-4,4,color='blue',ymin=-20, ymax=20)\n",
    "show(g1+g2)"
   ]
  },
  {
   "cell_type": "code",
   "execution_count": 44,
   "metadata": {},
   "outputs": [
    {
     "data": {
      "image/png": "[encoded data removed]",
      "text/plain": [
       "Graphics object consisting of 3 graphics primitives"
      ]
     },
     "metadata": {},
     "output_type": "display_data"
    }
   ],
   "source": [
    "#2d)\n",
    "t = var('t')\n",
    "x=function('x')(t)\n",
    "y=function('y')(t)\n",
    "z=function('z')(t)\n",
    "\n",
    "deq1=diff(x,t)==-x+3*y+3*z+27*t*t\n",
    "deq2=diff(y,t)==2*x-2*y-5*z+3*t\n",
    "deq3=diff(z,t)==-2*x+3*y+6*z+3\n",
    "syst=[deq1,deq2,deq3]\n",
    "\n",
    "vars=[x,y,z]\n",
    "in_cond=[0,50,-30,26]\n",
    "sol=desolve_system(syst, vars, in_cond)\n",
    "\n",
    "sol_x(t)=sol[0].rhs()\n",
    "sol_y(t)=sol[1].rhs()\n",
    "sol_z(t)=sol[2].rhs()\n",
    "\n",
    "g1=plot(sol_x(t),t,-4,4,color='red',ymin=-20, ymax=20)\n",
    "g2=plot(sol_y(t),t,-4,4,color='blue',ymin=-20, ymax=20)\n",
    "g3=plot(sol_z(t),t,-4,4,color='magenta',ymin=-20, ymax=20)\n",
    "show(g1+g2+g3)"
   ]
  },
  {
   "cell_type": "code",
   "execution_count": 105,
   "metadata": {},
   "outputs": [
    {
     "data": {
      "text/html": [
       "<html><script type=\"math/tex; mode=display\">\\newcommand{\\Bold}[1]{\\mathbf{#1}}\\left[x\\left(t\\right) = -3 \\, e^{\\left(3 \\, t\\right)} + 6 \\, e^{\\left(2 \\, t\\right)}, y\\left(t\\right) = -6 \\, e^{\\left(3 \\, t\\right)} + 6 \\, e^{\\left(2 \\, t\\right)}\\right]</script></html>"
      ],
      "text/latex": [
       "\\begin{math}\n",
       "\\newcommand{\\Bold}[1]{\\mathbf{#1}}\\left[x\\left(t\\right) = -3 \\, e^{\\left(3 \\, t\\right)} + 6 \\, e^{\\left(2 \\, t\\right)}, y\\left(t\\right) = -6 \\, e^{\\left(3 \\, t\\right)} + 6 \\, e^{\\left(2 \\, t\\right)}\\right]\n",
       "\\end{math}"
      ],
      "text/plain": [
       "[x(t) == -3*e^(3*t) + 6*e^(2*t), y(t) == -6*e^(3*t) + 6*e^(2*t)]"
      ]
     },
     "metadata": {},
     "output_type": "display_data"
    },
    {
     "data": {
      "text/html": [
       "<html><script type=\"math/tex; mode=display\">\\newcommand{\\Bold}[1]{\\mathbf{#1}}-\\infty</script></html>"
      ],
      "text/latex": [
       "\\begin{math}\n",
       "\\newcommand{\\Bold}[1]{\\mathbf{#1}}-\\infty\n",
       "\\end{math}"
      ],
      "text/plain": [
       "-Infinity"
      ]
     },
     "metadata": {},
     "output_type": "display_data"
    },
    {
     "data": {
      "text/html": [
       "<html><script type=\"math/tex; mode=display\">\\newcommand{\\Bold}[1]{\\mathbf{#1}}-\\infty</script></html>"
      ],
      "text/latex": [
       "\\begin{math}\n",
       "\\newcommand{\\Bold}[1]{\\mathbf{#1}}-\\infty\n",
       "\\end{math}"
      ],
      "text/plain": [
       "-Infinity"
      ]
     },
     "metadata": {},
     "output_type": "display_data"
    },
    {
     "data": {
      "text/html": [
       "<html><script type=\"math/tex; mode=display\">\\newcommand{\\Bold}[1]{\\mathbf{#1}}\\left[x\\left(t\\right) = 3 \\, e^{\\left(3 \\, t\\right)} - 3 \\, e^{\\left(2 \\, t\\right)}, y\\left(t\\right) = 6 \\, e^{\\left(3 \\, t\\right)} - 3 \\, e^{\\left(2 \\, t\\right)}\\right]</script></html>"
      ],
      "text/latex": [
       "\\begin{math}\n",
       "\\newcommand{\\Bold}[1]{\\mathbf{#1}}\\left[x\\left(t\\right) = 3 \\, e^{\\left(3 \\, t\\right)} - 3 \\, e^{\\left(2 \\, t\\right)}, y\\left(t\\right) = 6 \\, e^{\\left(3 \\, t\\right)} - 3 \\, e^{\\left(2 \\, t\\right)}\\right]\n",
       "\\end{math}"
      ],
      "text/plain": [
       "[x(t) == 3*e^(3*t) - 3*e^(2*t), y(t) == 6*e^(3*t) - 3*e^(2*t)]"
      ]
     },
     "metadata": {},
     "output_type": "display_data"
    },
    {
     "data": {
      "text/html": [
       "<html><script type=\"math/tex; mode=display\">\\newcommand{\\Bold}[1]{\\mathbf{#1}}+\\infty</script></html>"
      ],
      "text/latex": [
       "\\begin{math}\n",
       "\\newcommand{\\Bold}[1]{\\mathbf{#1}}+\\infty\n",
       "\\end{math}"
      ],
      "text/plain": [
       "+Infinity"
      ]
     },
     "metadata": {},
     "output_type": "display_data"
    },
    {
     "data": {
      "text/html": [
       "<html><script type=\"math/tex; mode=display\">\\newcommand{\\Bold}[1]{\\mathbf{#1}}+\\infty</script></html>"
      ],
      "text/latex": [
       "\\begin{math}\n",
       "\\newcommand{\\Bold}[1]{\\mathbf{#1}}+\\infty\n",
       "\\end{math}"
      ],
      "text/plain": [
       "+Infinity"
      ]
     },
     "metadata": {},
     "output_type": "display_data"
    },
    {
     "data": {
      "text/html": [
       "<html><script type=\"math/tex; mode=display\">\\newcommand{\\Bold}[1]{\\mathbf{#1}}\\left[x\\left(t\\right) = -3 \\, e^{\\left(3 \\, t\\right)} + 6 \\, e^{\\left(2 \\, t\\right)}, y\\left(t\\right) = -6 \\, e^{\\left(3 \\, t\\right)} + 6 \\, e^{\\left(2 \\, t\\right)}\\right]</script></html>"
      ],
      "text/latex": [
       "\\begin{math}\n",
       "\\newcommand{\\Bold}[1]{\\mathbf{#1}}\\left[x\\left(t\\right) = -3 \\, e^{\\left(3 \\, t\\right)} + 6 \\, e^{\\left(2 \\, t\\right)}, y\\left(t\\right) = -6 \\, e^{\\left(3 \\, t\\right)} + 6 \\, e^{\\left(2 \\, t\\right)}\\right]\n",
       "\\end{math}"
      ],
      "text/plain": [
       "[x(t) == -3*e^(3*t) + 6*e^(2*t), y(t) == -6*e^(3*t) + 6*e^(2*t)]"
      ]
     },
     "metadata": {},
     "output_type": "display_data"
    },
    {
     "data": {
      "text/html": [
       "<html><script type=\"math/tex; mode=display\">\\newcommand{\\Bold}[1]{\\mathbf{#1}}-\\infty</script></html>"
      ],
      "text/latex": [
       "\\begin{math}\n",
       "\\newcommand{\\Bold}[1]{\\mathbf{#1}}-\\infty\n",
       "\\end{math}"
      ],
      "text/plain": [
       "-Infinity"
      ]
     },
     "metadata": {},
     "output_type": "display_data"
    },
    {
     "data": {
      "text/html": [
       "<html><script type=\"math/tex; mode=display\">\\newcommand{\\Bold}[1]{\\mathbf{#1}}-\\infty</script></html>"
      ],
      "text/latex": [
       "\\begin{math}\n",
       "\\newcommand{\\Bold}[1]{\\mathbf{#1}}-\\infty\n",
       "\\end{math}"
      ],
      "text/plain": [
       "-Infinity"
      ]
     },
     "metadata": {},
     "output_type": "display_data"
    },
    {
     "data": {
      "text/html": [
       "<html><script type=\"math/tex; mode=display\">\\newcommand{\\Bold}[1]{\\mathbf{#1}}\\left[x\\left(t\\right) = -3 \\, e^{\\left(3 \\, t\\right)} + 3 \\, e^{\\left(2 \\, t\\right)}, y\\left(t\\right) = -6 \\, e^{\\left(3 \\, t\\right)} + 3 \\, e^{\\left(2 \\, t\\right)}\\right]</script></html>"
      ],
      "text/latex": [
       "\\begin{math}\n",
       "\\newcommand{\\Bold}[1]{\\mathbf{#1}}\\left[x\\left(t\\right) = -3 \\, e^{\\left(3 \\, t\\right)} + 3 \\, e^{\\left(2 \\, t\\right)}, y\\left(t\\right) = -6 \\, e^{\\left(3 \\, t\\right)} + 3 \\, e^{\\left(2 \\, t\\right)}\\right]\n",
       "\\end{math}"
      ],
      "text/plain": [
       "[x(t) == -3*e^(3*t) + 3*e^(2*t), y(t) == -6*e^(3*t) + 3*e^(2*t)]"
      ]
     },
     "metadata": {},
     "output_type": "display_data"
    },
    {
     "data": {
      "text/html": [
       "<html><script type=\"math/tex; mode=display\">\\newcommand{\\Bold}[1]{\\mathbf{#1}}-\\infty</script></html>"
      ],
      "text/latex": [
       "\\begin{math}\n",
       "\\newcommand{\\Bold}[1]{\\mathbf{#1}}-\\infty\n",
       "\\end{math}"
      ],
      "text/plain": [
       "-Infinity"
      ]
     },
     "metadata": {},
     "output_type": "display_data"
    },
    {
     "data": {
      "text/html": [
       "<html><script type=\"math/tex; mode=display\">\\newcommand{\\Bold}[1]{\\mathbf{#1}}-\\infty</script></html>"
      ],
      "text/latex": [
       "\\begin{math}\n",
       "\\newcommand{\\Bold}[1]{\\mathbf{#1}}-\\infty\n",
       "\\end{math}"
      ],
      "text/plain": [
       "-Infinity"
      ]
     },
     "metadata": {},
     "output_type": "display_data"
    },
    {
     "data": {
      "image/png": "[encoded data removed]",
      "text/plain": [
       "Graphics object consisting of 6 graphics primitives"
      ]
     },
     "metadata": {},
     "output_type": "display_data"
    }
   ],
   "source": [
    "#3 a b c)\n",
    "reset()\n",
    "#scalare vector\n",
    "f1(u,v)=u+v\n",
    "f2(u,v)=u-v\n",
    "n=sqrt(f1(u,v)^2+f2(u,v)^2)\n",
    "g1=plot_vector_field( [f1(u,v)/n,f2(u,v)/n], [u,-10,10], [v,-10,10],color='red' ,aspect_ratio = 1)\n",
    "\n",
    "#sistemul\n",
    "t = var('t')\n",
    "x=function('x')(t)\n",
    "y=function('y')(t)\n",
    "deq1=diff(x,t)==x+y\n",
    "deq2=diff(y,t)==-2*x+4*y\n",
    "\n",
    "#Luam pe rand conditiile\n",
    "\n",
    "    #1) x(0)=3 , y(0)=0\n",
    "syst=[deq1,deq2]\n",
    "vars=[x,y]\n",
    "\n",
    "in_cond=[0,3,0]\n",
    "sol=desolve_system(syst, vars, in_cond)\n",
    "show(sol)\n",
    "\n",
    "sol_x(t)=sol[0].rhs()\n",
    "sol_y(t)=sol[1].rhs()\n",
    "\n",
    "show(limit(sol_x(t), t=infinity))\n",
    "show(limit(sol_y(t), t=infinity))\n",
    "g2 = parametric_plot((sol_x(t), sol_y(t)), (t,-10,10), color='magenta')\n",
    "\n",
    "\n",
    "    #2) x(0)=0 , y(0)=3\n",
    "in_cond=[0,0,3]\n",
    "sol=desolve_system(syst, vars, in_cond)\n",
    "show(sol)\n",
    "\n",
    "sol_x(t)=sol[0].rhs()\n",
    "sol_y(t)=sol[1].rhs()\n",
    "\n",
    "show(limit(sol_x(t), t=infinity))\n",
    "show(limit(sol_y(t), t=infinity))\n",
    "g3 = parametric_plot((sol_x(t), sol_y(t)), (t,-10,10), color='blue')\n",
    "\n",
    "\n",
    "    #3) x(0)=-3 , y(0)=0\n",
    "in_cond=[0,3,0]\n",
    "sol=desolve_system(syst, vars, in_cond)\n",
    "show(sol)\n",
    "\n",
    "sol_x(t)=sol[0].rhs()\n",
    "sol_y(t)=sol[1].rhs()\n",
    "\n",
    "show(limit(sol_x(t), t=infinity))\n",
    "show(limit(sol_y(t), t=infinity))\n",
    "g4 = parametric_plot((sol_x(t), sol_y(t)), (t,-10,10), color='yellow')\n",
    "\n",
    "\n",
    "    #4) x(0)=0 , y(0)=-3\n",
    "in_cond=[0,0,-3]\n",
    "sol=desolve_system(syst, vars, in_cond)\n",
    "show(sol)\n",
    "\n",
    "sol_x(t)=sol[0].rhs()\n",
    "sol_y(t)=sol[1].rhs()\n",
    "\n",
    "show(limit(sol_x(t), t=infinity))\n",
    "show(limit(sol_y(t), t=infinity))\n",
    "g5 = parametric_plot((sol_x(t), sol_y(t)), (t,-10,10), color='green')\n",
    "\n",
    "show(g1+g2+g3+g4+g5, xmin=-10, xmax=10, ymin=-10, ymax=10)"
   ]
  },
  {
   "cell_type": "code",
   "execution_count": 91,
   "metadata": {},
   "outputs": [
    {
     "data": {
      "text/html": [
       "<html><script type=\"math/tex; mode=display\">\\newcommand{\\Bold}[1]{\\mathbf{#1}}\\left[x\\left(t\\right) = C_{2} t e^{\\left(-t\\right)} + t e^{\\left(-t\\right)} x\\left(0\\right) + e^{\\left(-t\\right)} x\\left(0\\right), y\\left(t\\right) = -C_{2} t e^{\\left(-t\\right)} - t e^{\\left(-t\\right)} x\\left(0\\right) + C_{2} e^{\\left(-t\\right)}\\right]</script></html>"
      ],
      "text/latex": [
       "\\begin{math}\n",
       "\\newcommand{\\Bold}[1]{\\mathbf{#1}}\\left[x\\left(t\\right) = C_{2} t e^{\\left(-t\\right)} + t e^{\\left(-t\\right)} x\\left(0\\right) + e^{\\left(-t\\right)} x\\left(0\\right), y\\left(t\\right) = -C_{2} t e^{\\left(-t\\right)} - t e^{\\left(-t\\right)} x\\left(0\\right) + C_{2} e^{\\left(-t\\right)}\\right]\n",
       "\\end{math}"
      ],
      "text/plain": [
       "[x(t) == C2*t*e^(-t) + t*e^(-t)*x(0) + e^(-t)*x(0),\n",
       " y(t) == -C2*t*e^(-t) - t*e^(-t)*x(0) + C2*e^(-t)]"
      ]
     },
     "metadata": {},
     "output_type": "display_data"
    },
    {
     "data": {
      "text/html": [
       "<html><script type=\"math/tex; mode=display\">\\newcommand{\\Bold}[1]{\\mathbf{#1}}\\infty</script></html>"
      ],
      "text/latex": [
       "\\begin{math}\n",
       "\\newcommand{\\Bold}[1]{\\mathbf{#1}}\\infty\n",
       "\\end{math}"
      ],
      "text/plain": [
       "Infinity"
      ]
     },
     "metadata": {},
     "output_type": "display_data"
    },
    {
     "data": {
      "text/html": [
       "<html><script type=\"math/tex; mode=display\">\\newcommand{\\Bold}[1]{\\mathbf{#1}}\\infty</script></html>"
      ],
      "text/latex": [
       "\\begin{math}\n",
       "\\newcommand{\\Bold}[1]{\\mathbf{#1}}\\infty\n",
       "\\end{math}"
      ],
      "text/plain": [
       "Infinity"
      ]
     },
     "metadata": {},
     "output_type": "display_data"
    },
    {
     "ename": "ValueError",
     "evalue": "there are more variables than variable ranges",
     "output_type": "error",
     "traceback": [
      "\u001b[0;31m---------------------------------------------------------------------------\u001b[0m",
      "\u001b[0;31mValueError\u001b[0m                                Traceback (most recent call last)",
      "\u001b[0;32m/opt/sagemath-9.2/local/lib/python3.7/site-packages/sage/all_cmdline.py\u001b[0m in \u001b[0;36m<module>\u001b[0;34m\u001b[0m\n\u001b[1;32m     28\u001b[0m \u001b[0;34m\u001b[0m\u001b[0m\n\u001b[1;32m     29\u001b[0m \u001b[0;31m#c)\u001b[0m\u001b[0;34m\u001b[0m\u001b[0;34m\u001b[0m\u001b[0;34m\u001b[0m\u001b[0m\n\u001b[0;32m---> 30\u001b[0;31m \u001b[0mg2\u001b[0m \u001b[0;34m=\u001b[0m \u001b[0mparametric_plot\u001b[0m\u001b[0;34m(\u001b[0m\u001b[0;34m(\u001b[0m\u001b[0msol_x\u001b[0m\u001b[0;34m(\u001b[0m\u001b[0mt\u001b[0m\u001b[0;34m)\u001b[0m\u001b[0;34m,\u001b[0m \u001b[0msol_y\u001b[0m\u001b[0;34m(\u001b[0m\u001b[0mt\u001b[0m\u001b[0;34m)\u001b[0m\u001b[0;34m)\u001b[0m\u001b[0;34m,\u001b[0m \u001b[0;34m(\u001b[0m\u001b[0mt\u001b[0m\u001b[0;34m,\u001b[0m\u001b[0;34m-\u001b[0m\u001b[0mInteger\u001b[0m\u001b[0;34m(\u001b[0m\u001b[0;36m10\u001b[0m\u001b[0;34m)\u001b[0m\u001b[0;34m,\u001b[0m\u001b[0mInteger\u001b[0m\u001b[0;34m(\u001b[0m\u001b[0;36m10\u001b[0m\u001b[0;34m)\u001b[0m\u001b[0;34m)\u001b[0m\u001b[0;34m,\u001b[0m \u001b[0mcolor\u001b[0m\u001b[0;34m=\u001b[0m\u001b[0;34m'blue'\u001b[0m\u001b[0;34m)\u001b[0m\u001b[0;34m\u001b[0m\u001b[0;34m\u001b[0m\u001b[0m\n\u001b[0m\u001b[1;32m     31\u001b[0m \u001b[0;34m\u001b[0m\u001b[0m\n\u001b[1;32m     32\u001b[0m \u001b[0mshow\u001b[0m\u001b[0;34m(\u001b[0m\u001b[0mg1\u001b[0m\u001b[0;34m,\u001b[0m \u001b[0mxmin\u001b[0m\u001b[0;34m=\u001b[0m\u001b[0;34m-\u001b[0m\u001b[0mInteger\u001b[0m\u001b[0;34m(\u001b[0m\u001b[0;36m10\u001b[0m\u001b[0;34m)\u001b[0m\u001b[0;34m,\u001b[0m \u001b[0mxmax\u001b[0m\u001b[0;34m=\u001b[0m\u001b[0mInteger\u001b[0m\u001b[0;34m(\u001b[0m\u001b[0;36m10\u001b[0m\u001b[0;34m)\u001b[0m\u001b[0;34m,\u001b[0m \u001b[0mymin\u001b[0m\u001b[0;34m=\u001b[0m\u001b[0;34m-\u001b[0m\u001b[0mInteger\u001b[0m\u001b[0;34m(\u001b[0m\u001b[0;36m10\u001b[0m\u001b[0;34m)\u001b[0m\u001b[0;34m,\u001b[0m \u001b[0mymax\u001b[0m\u001b[0;34m=\u001b[0m\u001b[0mInteger\u001b[0m\u001b[0;34m(\u001b[0m\u001b[0;36m10\u001b[0m\u001b[0;34m)\u001b[0m\u001b[0;34m)\u001b[0m\u001b[0;34m\u001b[0m\u001b[0;34m\u001b[0m\u001b[0m\n",
      "\u001b[0;32m/opt/sagemath-9.2/local/lib/python3.7/site-packages/sage/misc/decorators.py\u001b[0m in \u001b[0;36mwrapper\u001b[0;34m(*args, **kwds)\u001b[0m\n\u001b[1;32m    490\u001b[0m                 \u001b[0moptions\u001b[0m\u001b[0;34m[\u001b[0m\u001b[0;34m'__original_opts'\u001b[0m\u001b[0;34m]\u001b[0m \u001b[0;34m=\u001b[0m \u001b[0mkwds\u001b[0m\u001b[0;34m\u001b[0m\u001b[0;34m\u001b[0m\u001b[0m\n\u001b[1;32m    491\u001b[0m             \u001b[0moptions\u001b[0m\u001b[0;34m.\u001b[0m\u001b[0mupdate\u001b[0m\u001b[0;34m(\u001b[0m\u001b[0mkwds\u001b[0m\u001b[0;34m)\u001b[0m\u001b[0;34m\u001b[0m\u001b[0;34m\u001b[0m\u001b[0m\n\u001b[0;32m--> 492\u001b[0;31m             \u001b[0;32mreturn\u001b[0m \u001b[0mfunc\u001b[0m\u001b[0;34m(\u001b[0m\u001b[0;34m*\u001b[0m\u001b[0margs\u001b[0m\u001b[0;34m,\u001b[0m \u001b[0;34m**\u001b[0m\u001b[0moptions\u001b[0m\u001b[0;34m)\u001b[0m\u001b[0;34m\u001b[0m\u001b[0;34m\u001b[0m\u001b[0m\n\u001b[0m\u001b[1;32m    493\u001b[0m \u001b[0;34m\u001b[0m\u001b[0m\n\u001b[1;32m    494\u001b[0m         \u001b[0;31m#Add the options specified by @options to the signature of the wrapped\u001b[0m\u001b[0;34m\u001b[0m\u001b[0;34m\u001b[0m\u001b[0;34m\u001b[0m\u001b[0m\n",
      "\u001b[0;32m/opt/sagemath-9.2/local/lib/python3.7/site-packages/sage/plot/plot.py\u001b[0m in \u001b[0;36mparametric_plot\u001b[0;34m(funcs, *args, **kwargs)\u001b[0m\n\u001b[1;32m   2656\u001b[0m     \u001b[0mnum_vars\u001b[0m \u001b[0;34m=\u001b[0m \u001b[0mlen\u001b[0m\u001b[0;34m(\u001b[0m\u001b[0msage\u001b[0m\u001b[0;34m.\u001b[0m\u001b[0mplot\u001b[0m\u001b[0;34m.\u001b[0m\u001b[0mmisc\u001b[0m\u001b[0;34m.\u001b[0m\u001b[0munify_arguments\u001b[0m\u001b[0;34m(\u001b[0m\u001b[0mfuncs\u001b[0m\u001b[0;34m)\u001b[0m\u001b[0;34m[\u001b[0m\u001b[0;36m0\u001b[0m\u001b[0;34m]\u001b[0m\u001b[0;34m)\u001b[0m\u001b[0;34m\u001b[0m\u001b[0;34m\u001b[0m\u001b[0m\n\u001b[1;32m   2657\u001b[0m     \u001b[0;32mif\u001b[0m \u001b[0mnum_vars\u001b[0m \u001b[0;34m>\u001b[0m \u001b[0mnum_ranges\u001b[0m\u001b[0;34m:\u001b[0m\u001b[0;34m\u001b[0m\u001b[0;34m\u001b[0m\u001b[0m\n\u001b[0;32m-> 2658\u001b[0;31m         \u001b[0;32mraise\u001b[0m \u001b[0mValueError\u001b[0m\u001b[0;34m(\u001b[0m\u001b[0;34m\"there are more variables than variable ranges\"\u001b[0m\u001b[0;34m)\u001b[0m\u001b[0;34m\u001b[0m\u001b[0;34m\u001b[0m\u001b[0m\n\u001b[0m\u001b[1;32m   2659\u001b[0m \u001b[0;34m\u001b[0m\u001b[0m\n\u001b[1;32m   2660\u001b[0m     \u001b[0;31m# Reset aspect_ratio to 'automatic' in case scale is 'semilog[xy]'.\u001b[0m\u001b[0;34m\u001b[0m\u001b[0;34m\u001b[0m\u001b[0;34m\u001b[0m\u001b[0m\n",
      "\u001b[0;31mValueError\u001b[0m: there are more variables than variable ranges"
     ]
    }
   ],
   "source": [
    "#4\n",
    "reset()\n",
    "f1(u,v)=u+v\n",
    "f2(u,v)=u-v\n",
    "n=sqrt(f1(u,v)^2+f2(u,v)^2)\n",
    "g1=plot_vector_field( [f1(u,v)/n,f2(u,v)/n], [u,-10,10], [v,-10,10],color='red' ,aspect_ratio = 1)\n",
    "\n",
    "#a)\n",
    "t = var('t')\n",
    "x=function('x')(t)\n",
    "y=function('y')(t)\n",
    "\n",
    "deq1=diff(x,t)==y\n",
    "deq2=diff(y,t)==-x-2*y\n",
    "\n",
    "syst=[deq1,deq2]\n",
    "vars=[x,y]\n",
    "\n",
    "sol=desolve_system(syst, vars)\n",
    "show(sol)\n",
    "\n",
    "sol_x(t)=sol[0].rhs()\n",
    "sol_y(t)=sol[1].rhs()\n",
    "\n",
    "#b)\n",
    "show(limit(sol_x(t), t=infinity))\n",
    "show(limit(sol_y(t), t=infinity))\n",
    "\n",
    "#c)\n",
    "g2 = parametric_plot((sol_x(t), sol_y(t)), (t,-10,10), color='blue')\n",
    "\n",
    "show(g1, xmin=-10, xmax=10, ymin=-10, ymax=10)"
   ]
  },
  {
   "cell_type": "code",
   "execution_count": 121,
   "metadata": {},
   "outputs": [
    {
     "data": {
      "text/html": [
       "<html><script type=\"math/tex; mode=display\">\\newcommand{\\Bold}[1]{\\mathbf{#1}}\\left[x\\left(t\\right) = \\frac{1}{2} \\, {\\left(C_{2} + x\\left(0\\right)\\right)} e^{\\left(3 \\, t\\right)} - \\frac{1}{2} \\, {\\left(C_{2} - x\\left(0\\right)\\right)} e^{t}, y\\left(t\\right) = \\frac{1}{2} \\, {\\left(C_{2} + x\\left(0\\right)\\right)} e^{\\left(3 \\, t\\right)} + \\frac{1}{2} \\, {\\left(C_{2} - x\\left(0\\right)\\right)} e^{t}\\right]</script></html>"
      ],
      "text/latex": [
       "\\begin{math}\n",
       "\\newcommand{\\Bold}[1]{\\mathbf{#1}}\\left[x\\left(t\\right) = \\frac{1}{2} \\, {\\left(C_{2} + x\\left(0\\right)\\right)} e^{\\left(3 \\, t\\right)} - \\frac{1}{2} \\, {\\left(C_{2} - x\\left(0\\right)\\right)} e^{t}, y\\left(t\\right) = \\frac{1}{2} \\, {\\left(C_{2} + x\\left(0\\right)\\right)} e^{\\left(3 \\, t\\right)} + \\frac{1}{2} \\, {\\left(C_{2} - x\\left(0\\right)\\right)} e^{t}\\right]\n",
       "\\end{math}"
      ],
      "text/plain": [
       "[x(t) == 1/2*(C2 + x(0))*e^(3*t) - 1/2*(C2 - x(0))*e^t,\n",
       " y(t) == 1/2*(C2 + x(0))*e^(3*t) + 1/2*(C2 - x(0))*e^t]"
      ]
     },
     "metadata": {},
     "output_type": "display_data"
    },
    {
     "data": {
      "text/html": [
       "<html><script type=\"math/tex; mode=display\">\\newcommand{\\Bold}[1]{\\mathbf{#1}}t \\ {\\mapsto}\\ \\frac{1}{2} \\, {\\left(C_{2} + x\\left(0\\right)\\right)} e^{\\left(3 \\, t\\right)} - \\frac{1}{2} \\, {\\left(C_{2} - x\\left(0\\right)\\right)} e^{t}</script></html>"
      ],
      "text/latex": [
       "\\begin{math}\n",
       "\\newcommand{\\Bold}[1]{\\mathbf{#1}}t \\ {\\mapsto}\\ \\frac{1}{2} \\, {\\left(C_{2} + x\\left(0\\right)\\right)} e^{\\left(3 \\, t\\right)} - \\frac{1}{2} \\, {\\left(C_{2} - x\\left(0\\right)\\right)} e^{t}\n",
       "\\end{math}"
      ],
      "text/plain": [
       "t |--> 1/2*(C2 + x(0))*e^(3*t) - 1/2*(C2 - x(0))*e^t"
      ]
     },
     "metadata": {},
     "output_type": "display_data"
    },
    {
     "data": {
      "text/html": [
       "<html><script type=\"math/tex; mode=display\">\\newcommand{\\Bold}[1]{\\mathbf{#1}}t \\ {\\mapsto}\\ \\frac{1}{2} \\, {\\left(C_{2} + x\\left(0\\right)\\right)} e^{\\left(3 \\, t\\right)} + \\frac{1}{2} \\, {\\left(C_{2} - x\\left(0\\right)\\right)} e^{t}</script></html>"
      ],
      "text/latex": [
       "\\begin{math}\n",
       "\\newcommand{\\Bold}[1]{\\mathbf{#1}}t \\ {\\mapsto}\\ \\frac{1}{2} \\, {\\left(C_{2} + x\\left(0\\right)\\right)} e^{\\left(3 \\, t\\right)} + \\frac{1}{2} \\, {\\left(C_{2} - x\\left(0\\right)\\right)} e^{t}\n",
       "\\end{math}"
      ],
      "text/plain": [
       "t |--> 1/2*(C2 + x(0))*e^(3*t) + 1/2*(C2 - x(0))*e^t"
      ]
     },
     "metadata": {},
     "output_type": "display_data"
    },
    {
     "ename": "ValueError",
     "evalue": "there are more variables than variable ranges",
     "output_type": "error",
     "traceback": [
      "\u001b[0;31m---------------------------------------------------------------------------\u001b[0m",
      "\u001b[0;31mValueError\u001b[0m                                Traceback (most recent call last)",
      "\u001b[0;32m/opt/sagemath-9.2/local/lib/python3.7/site-packages/sage/all_cmdline.py\u001b[0m in \u001b[0;36m<module>\u001b[0;34m\u001b[0m\n\u001b[1;32m     33\u001b[0m \u001b[0;34m\u001b[0m\u001b[0m\n\u001b[1;32m     34\u001b[0m \u001b[0;31m#g2 = parametric_plot(sol_x(t,1,1),t,-5,5,color='blue')\u001b[0m\u001b[0;34m\u001b[0m\u001b[0;34m\u001b[0m\u001b[0;34m\u001b[0m\u001b[0m\n\u001b[0;32m---> 35\u001b[0;31m \u001b[0mg2\u001b[0m \u001b[0;34m=\u001b[0m \u001b[0mparametric_plot\u001b[0m\u001b[0;34m(\u001b[0m\u001b[0;34m(\u001b[0m\u001b[0msol_x\u001b[0m\u001b[0;34m(\u001b[0m\u001b[0mt\u001b[0m\u001b[0;34m)\u001b[0m\u001b[0;34m,\u001b[0m \u001b[0msol_y\u001b[0m\u001b[0;34m(\u001b[0m\u001b[0mt\u001b[0m\u001b[0;34m)\u001b[0m\u001b[0;34m)\u001b[0m\u001b[0;34m,\u001b[0m\u001b[0;34m(\u001b[0m\u001b[0mt\u001b[0m\u001b[0;34m,\u001b[0m\u001b[0;34m-\u001b[0m\u001b[0mInteger\u001b[0m\u001b[0;34m(\u001b[0m\u001b[0;36m5\u001b[0m\u001b[0;34m)\u001b[0m\u001b[0;34m,\u001b[0m\u001b[0mInteger\u001b[0m\u001b[0;34m(\u001b[0m\u001b[0;36m5\u001b[0m\u001b[0;34m)\u001b[0m\u001b[0;34m)\u001b[0m\u001b[0;34m,\u001b[0m\u001b[0mcolor\u001b[0m\u001b[0;34m=\u001b[0m\u001b[0;34m'blue'\u001b[0m\u001b[0;34m)\u001b[0m\u001b[0;34m\u001b[0m\u001b[0;34m\u001b[0m\u001b[0m\n\u001b[0m\u001b[1;32m     36\u001b[0m \u001b[0mshow\u001b[0m\u001b[0;34m(\u001b[0m\u001b[0mg1\u001b[0m\u001b[0;34m+\u001b[0m\u001b[0mg2\u001b[0m\u001b[0;34m,\u001b[0m \u001b[0mxmin\u001b[0m\u001b[0;34m=\u001b[0m\u001b[0;34m-\u001b[0m\u001b[0mInteger\u001b[0m\u001b[0;34m(\u001b[0m\u001b[0;36m5\u001b[0m\u001b[0;34m)\u001b[0m\u001b[0;34m,\u001b[0m \u001b[0mxmax\u001b[0m\u001b[0;34m=\u001b[0m\u001b[0mInteger\u001b[0m\u001b[0;34m(\u001b[0m\u001b[0;36m5\u001b[0m\u001b[0;34m)\u001b[0m\u001b[0;34m,\u001b[0m \u001b[0mymin\u001b[0m\u001b[0;34m=\u001b[0m\u001b[0;34m-\u001b[0m\u001b[0mInteger\u001b[0m\u001b[0;34m(\u001b[0m\u001b[0;36m5\u001b[0m\u001b[0;34m)\u001b[0m\u001b[0;34m,\u001b[0m \u001b[0mymax\u001b[0m\u001b[0;34m=\u001b[0m\u001b[0mInteger\u001b[0m\u001b[0;34m(\u001b[0m\u001b[0;36m5\u001b[0m\u001b[0;34m)\u001b[0m\u001b[0;34m)\u001b[0m\u001b[0;34m\u001b[0m\u001b[0;34m\u001b[0m\u001b[0m\n",
      "\u001b[0;32m/opt/sagemath-9.2/local/lib/python3.7/site-packages/sage/misc/decorators.py\u001b[0m in \u001b[0;36mwrapper\u001b[0;34m(*args, **kwds)\u001b[0m\n\u001b[1;32m    490\u001b[0m                 \u001b[0moptions\u001b[0m\u001b[0;34m[\u001b[0m\u001b[0;34m'__original_opts'\u001b[0m\u001b[0;34m]\u001b[0m \u001b[0;34m=\u001b[0m \u001b[0mkwds\u001b[0m\u001b[0;34m\u001b[0m\u001b[0;34m\u001b[0m\u001b[0m\n\u001b[1;32m    491\u001b[0m             \u001b[0moptions\u001b[0m\u001b[0;34m.\u001b[0m\u001b[0mupdate\u001b[0m\u001b[0;34m(\u001b[0m\u001b[0mkwds\u001b[0m\u001b[0;34m)\u001b[0m\u001b[0;34m\u001b[0m\u001b[0;34m\u001b[0m\u001b[0m\n\u001b[0;32m--> 492\u001b[0;31m             \u001b[0;32mreturn\u001b[0m \u001b[0mfunc\u001b[0m\u001b[0;34m(\u001b[0m\u001b[0;34m*\u001b[0m\u001b[0margs\u001b[0m\u001b[0;34m,\u001b[0m \u001b[0;34m**\u001b[0m\u001b[0moptions\u001b[0m\u001b[0;34m)\u001b[0m\u001b[0;34m\u001b[0m\u001b[0;34m\u001b[0m\u001b[0m\n\u001b[0m\u001b[1;32m    493\u001b[0m \u001b[0;34m\u001b[0m\u001b[0m\n\u001b[1;32m    494\u001b[0m         \u001b[0;31m#Add the options specified by @options to the signature of the wrapped\u001b[0m\u001b[0;34m\u001b[0m\u001b[0;34m\u001b[0m\u001b[0;34m\u001b[0m\u001b[0m\n",
      "\u001b[0;32m/opt/sagemath-9.2/local/lib/python3.7/site-packages/sage/plot/plot.py\u001b[0m in \u001b[0;36mparametric_plot\u001b[0;34m(funcs, *args, **kwargs)\u001b[0m\n\u001b[1;32m   2656\u001b[0m     \u001b[0mnum_vars\u001b[0m \u001b[0;34m=\u001b[0m \u001b[0mlen\u001b[0m\u001b[0;34m(\u001b[0m\u001b[0msage\u001b[0m\u001b[0;34m.\u001b[0m\u001b[0mplot\u001b[0m\u001b[0;34m.\u001b[0m\u001b[0mmisc\u001b[0m\u001b[0;34m.\u001b[0m\u001b[0munify_arguments\u001b[0m\u001b[0;34m(\u001b[0m\u001b[0mfuncs\u001b[0m\u001b[0;34m)\u001b[0m\u001b[0;34m[\u001b[0m\u001b[0;36m0\u001b[0m\u001b[0;34m]\u001b[0m\u001b[0;34m)\u001b[0m\u001b[0;34m\u001b[0m\u001b[0;34m\u001b[0m\u001b[0m\n\u001b[1;32m   2657\u001b[0m     \u001b[0;32mif\u001b[0m \u001b[0mnum_vars\u001b[0m \u001b[0;34m>\u001b[0m \u001b[0mnum_ranges\u001b[0m\u001b[0;34m:\u001b[0m\u001b[0;34m\u001b[0m\u001b[0;34m\u001b[0m\u001b[0m\n\u001b[0;32m-> 2658\u001b[0;31m         \u001b[0;32mraise\u001b[0m \u001b[0mValueError\u001b[0m\u001b[0;34m(\u001b[0m\u001b[0;34m\"there are more variables than variable ranges\"\u001b[0m\u001b[0;34m)\u001b[0m\u001b[0;34m\u001b[0m\u001b[0;34m\u001b[0m\u001b[0m\n\u001b[0m\u001b[1;32m   2659\u001b[0m \u001b[0;34m\u001b[0m\u001b[0m\n\u001b[1;32m   2660\u001b[0m     \u001b[0;31m# Reset aspect_ratio to 'automatic' in case scale is 'semilog[xy]'.\u001b[0m\u001b[0;34m\u001b[0m\u001b[0;34m\u001b[0m\u001b[0;34m\u001b[0m\u001b[0m\n",
      "\u001b[0;31mValueError\u001b[0m: there are more variables than variable ranges"
     ]
    }
   ],
   "source": [
    "#5\n",
    "reset()\n",
    "f1(u,v)=2*u+v\n",
    "f2(u,v)=u+2*v\n",
    "n=sqrt(f1(u,v)^2+f2(u,v)^2)\n",
    "g1=plot_vector_field( [f1(u,v)/n,f2(u,v)/n], [u,-5,5], [v,-5,5],color='red' ,aspect_ratio = 1)\n",
    "\n",
    "t = var('t')\n",
    "x=function('x')(t)\n",
    "y=function('y')(t)\n",
    "\n",
    "deq1=diff(x,t)==2*x+y\n",
    "deq2=diff(y,t)==x+2*y\n",
    "\n",
    "syst=[deq1,deq2]\n",
    "vars=[x,y]\n",
    "\n",
    "sol=desolve_system(syst, vars)\n",
    "show(sol)\n",
    "\n",
    "sol_x(t)=sol[0].rhs()\n",
    "sol_y(t)=sol[1].rhs()\n",
    "show(sol_x)\n",
    "show(sol_y)\n",
    "#C1,C2=var('C1,C2')\n",
    "#sol=desolve_system(syst, [x,y],[0,C1,C2])\n",
    "#show(sol)\n",
    "\n",
    "\n",
    "#sol_x(t,C1,C2)=sol[0].rhs()\n",
    "#sol_y(t,C1,C2)=sol[1].rhs()\n",
    "\n",
    "\n",
    "#g2 = parametric_plot(sol_x(t,1,1),t,-5,5,color='blue')\n",
    "g2 = parametric_plot((sol_x(t), sol_y(t)),(t,-5,5),color='blue')\n",
    "show(g1+g2, xmin=-5, xmax=5, ymin=-5, ymax=5)"
   ]
  },
  {
   "cell_type": "code",
   "execution_count": null,
   "metadata": {},
   "outputs": [],
   "source": []
  }
 ],
 "metadata": {
  "kernelspec": {
   "display_name": "SageMath 9.2",
   "language": "sage",
   "name": "sagemath"
  },
  "language_info": {
   "codemirror_mode": {
    "name": "ipython",
    "version": 3
   },
   "file_extension": ".py",
   "mimetype": "text/x-python",
   "name": "python",
   "nbconvert_exporter": "python",
   "pygments_lexer": "ipython3",
   "version": "3.7.7"
  }
 },
 "nbformat": 4,
 "nbformat_minor": 4
}
